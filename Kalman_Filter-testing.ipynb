{
 "cells": [
  {
   "cell_type": "markdown",
   "metadata": {},
   "source": [
    "# Investigating one ship case\n",
    "\n",
    "### run DataCleaning-final.ipynb first"
   ]
  },
  {
   "cell_type": "code",
   "execution_count": 1,
   "metadata": {},
   "outputs": [],
   "source": [
    "import numpy as np\n",
    "import pandas as pd\n",
    "import matplotlib\n",
    "import geopandas as gpd\n",
    "import matplotlib.pyplot as plt\n",
    "import seaborn as sns\n",
    "import folium\n",
    "%matplotlib inline\n",
    "\n",
    "from os import path, getcwd\n",
    "from glob import glob\n",
    "import pykalman\n",
    "import datetime as dt\n",
    "from pykalman import KalmanFilter"
   ]
  },
  {
   "cell_type": "code",
   "execution_count": 2,
   "metadata": {},
   "outputs": [],
   "source": [
    "delta_cur = pd.read_csv(\"delta_processed.csv\",sep='\\t',parse_dates=['ReceivedTime'])"
   ]
  },
  {
   "cell_type": "code",
   "execution_count": 3,
   "metadata": {},
   "outputs": [
    {
     "data": {
      "text/plain": [
       "218491000"
      ]
     },
     "execution_count": 3,
     "metadata": {},
     "output_type": "execute_result"
    }
   ],
   "source": [
    "user_ID_allowed = np.unique(delta_cur['UserID'])\n",
    "# As the first try, we choose one ship only\n",
    "UserID = list(user_ID_allowed)[5]\n",
    "UserID"
   ]
  },
  {
   "cell_type": "code",
   "execution_count": 4,
   "metadata": {},
   "outputs": [
    {
     "name": "stdout",
     "output_type": "stream",
     "text": [
      "<class 'pandas.core.frame.DataFrame'>\n",
      "RangeIndex: 1037 entries, 0 to 1036\n",
      "Data columns (total 7 columns):\n",
      "ROT             1037 non-null float64\n",
      "SOG             1037 non-null float64\n",
      "Longitude       1037 non-null float64\n",
      "Latitude        1037 non-null float64\n",
      "TrueHeading     1037 non-null float64\n",
      "ReceivedTime    1037 non-null datetime64[ns]\n",
      "Time2           1037 non-null int64\n",
      "dtypes: datetime64[ns](1), float64(5), int64(1)\n",
      "memory usage: 56.8 KB\n"
     ]
    }
   ],
   "source": [
    "df = delta_cur[delta_cur['UserID']==UserID] #select the single ship\n",
    "df = df.drop(['UserID','Unnamed: 0'],axis=1)\n",
    "df = df.sort_values(by=['Time2']).reset_index(drop=True) #sort entries by Time\n",
    "df.info()"
   ]
  },
  {
   "cell_type": "code",
   "execution_count": 5,
   "metadata": {
    "scrolled": true
   },
   "outputs": [
    {
     "data": {
      "text/html": [
       "<div>\n",
       "<style scoped>\n",
       "    .dataframe tbody tr th:only-of-type {\n",
       "        vertical-align: middle;\n",
       "    }\n",
       "\n",
       "    .dataframe tbody tr th {\n",
       "        vertical-align: top;\n",
       "    }\n",
       "\n",
       "    .dataframe thead th {\n",
       "        text-align: right;\n",
       "    }\n",
       "</style>\n",
       "<table border=\"1\" class=\"dataframe\">\n",
       "  <thead>\n",
       "    <tr style=\"text-align: right;\">\n",
       "      <th></th>\n",
       "      <th>ROT</th>\n",
       "      <th>SOG</th>\n",
       "      <th>Longitude</th>\n",
       "      <th>Latitude</th>\n",
       "      <th>TrueHeading</th>\n",
       "      <th>ReceivedTime</th>\n",
       "      <th>Time2</th>\n",
       "    </tr>\n",
       "  </thead>\n",
       "  <tbody>\n",
       "    <tr>\n",
       "      <th>0</th>\n",
       "      <td>0.0</td>\n",
       "      <td>19.4</td>\n",
       "      <td>-123.19738</td>\n",
       "      <td>48.40374</td>\n",
       "      <td>35.0</td>\n",
       "      <td>2013-10-31 01:36:58.207</td>\n",
       "      <td>1383183360</td>\n",
       "    </tr>\n",
       "    <tr>\n",
       "      <th>1</th>\n",
       "      <td>0.0</td>\n",
       "      <td>19.6</td>\n",
       "      <td>-123.19594</td>\n",
       "      <td>48.40498</td>\n",
       "      <td>35.0</td>\n",
       "      <td>2013-10-31 01:37:15.707</td>\n",
       "      <td>1383183360</td>\n",
       "    </tr>\n",
       "    <tr>\n",
       "      <th>2</th>\n",
       "      <td>127.0</td>\n",
       "      <td>17.3</td>\n",
       "      <td>-123.24780</td>\n",
       "      <td>48.68678</td>\n",
       "      <td>6.0</td>\n",
       "      <td>2013-10-31 02:35:31.720</td>\n",
       "      <td>1383186960</td>\n",
       "    </tr>\n",
       "    <tr>\n",
       "      <th>3</th>\n",
       "      <td>0.0</td>\n",
       "      <td>18.0</td>\n",
       "      <td>-123.06563</td>\n",
       "      <td>48.75689</td>\n",
       "      <td>55.0</td>\n",
       "      <td>2013-10-31 03:03:51.227</td>\n",
       "      <td>1383188760</td>\n",
       "    </tr>\n",
       "    <tr>\n",
       "      <th>4</th>\n",
       "      <td>-126.0</td>\n",
       "      <td>18.6</td>\n",
       "      <td>-123.03533</td>\n",
       "      <td>48.76995</td>\n",
       "      <td>51.0</td>\n",
       "      <td>2013-10-31 03:08:31.810</td>\n",
       "      <td>1383188760</td>\n",
       "    </tr>\n",
       "  </tbody>\n",
       "</table>\n",
       "</div>"
      ],
      "text/plain": [
       "     ROT   SOG  Longitude  Latitude  TrueHeading            ReceivedTime  \\\n",
       "0    0.0  19.4 -123.19738  48.40374         35.0 2013-10-31 01:36:58.207   \n",
       "1    0.0  19.6 -123.19594  48.40498         35.0 2013-10-31 01:37:15.707   \n",
       "2  127.0  17.3 -123.24780  48.68678          6.0 2013-10-31 02:35:31.720   \n",
       "3    0.0  18.0 -123.06563  48.75689         55.0 2013-10-31 03:03:51.227   \n",
       "4 -126.0  18.6 -123.03533  48.76995         51.0 2013-10-31 03:08:31.810   \n",
       "\n",
       "        Time2  \n",
       "0  1383183360  \n",
       "1  1383183360  \n",
       "2  1383186960  \n",
       "3  1383188760  \n",
       "4  1383188760  "
      ]
     },
     "execution_count": 5,
     "metadata": {},
     "output_type": "execute_result"
    }
   ],
   "source": [
    "del delta_cur\n",
    "df.head()"
   ]
  },
  {
   "cell_type": "code",
   "execution_count": 6,
   "metadata": {},
   "outputs": [],
   "source": [
    "# figure out if the ship leaves the Metro Vancouver\n",
    "time_diff = np.diff(df['Time2']) #the time between subsequent signals\n",
    "dfs =[] #here we store dataframe each of them is a part of unique path\n",
    "idx = 0\n",
    "#invesgate all cases where the ship was not tracked for an hour or more.\n",
    "#If ship is near the edge of Metro Vancouver, split path into two parts\n",
    "#-- we assume that it leaves the Metro Vancouver Area\n",
    "for i in range(len(time_diff)):\n",
    "    if time_diff[i]>3600: #1 hour = 60*60=3600 seconds\n",
    "        #investigate where the ship is located\n",
    "        lat = df.loc[i,'Latitude']\n",
    "        lon = df.loc[i,'Longitude']\n",
    "        #recall original filtering\n",
    "        #mask = (delta_cur['Longitude']>-127)&(delta_cur['Longitude']<-120)\n",
    "        #mask = mask & (delta_cur['Latitude']>48)|(delta_cur['Latitude']<50)\n",
    "        if (lat>-126.8)&(lat<-119.8)&(lon>48.2)&(lon<49.8):\n",
    "            #the ship is inside Metro Vancouver\n",
    "            continue\n",
    "        else:\n",
    "            dfs.append(df.iloc[idx:i])\n",
    "            idx = i+1\n",
    "            \n",
    "dfs.append(df.loc[idx:])  #append whatever chunk contains the last row          "
   ]
  },
  {
   "cell_type": "code",
   "execution_count": 7,
   "metadata": {},
   "outputs": [
    {
     "data": {
      "text/plain": [
       "2"
      ]
     },
     "execution_count": 7,
     "metadata": {},
     "output_type": "execute_result"
    }
   ],
   "source": [
    "#how many different paths we got\n",
    "len(dfs)"
   ]
  },
  {
   "cell_type": "code",
   "execution_count": 8,
   "metadata": {},
   "outputs": [],
   "source": [
    "path_no = 0\n",
    "df = dfs[path_no] # for now, approximate the one path"
   ]
  },
  {
   "cell_type": "code",
   "execution_count": 9,
   "metadata": {},
   "outputs": [],
   "source": [
    "#group by time (timedelta = 6 minutes) and compute mean location, ROT, SOG and TrueHeading\n",
    "def compute_mean(df_t):\n",
    "    rot =  np.mean(df_t['ROT'])\n",
    "    sog = np.mean(df_t['SOG'])\n",
    "    lat = np.mean(df_t['Longitude'])\n",
    "    lon = np.mean(df_t['Latitude'])\n",
    "    truehed = np.mean(df_t['TrueHeading'])\n",
    "    time2 = df_t['Time2'].iloc[0]\n",
    "    return [rot,sog,lon,lat,truehed,time2]\n",
    "\n",
    "def process_df(df):\n",
    "    col_names = df.columns.values.tolist()\n",
    "    col_names.remove('ReceivedTime')\n",
    "    df_new = pd.DataFrame(columns = col_names)\n",
    "    idx = 0 #next index in df_new to be written at\n",
    "    min_time = np.min(df['Time2'])\n",
    "    max_time = np.max(df['Time2'])\n",
    "    for t in range(min_time,max_time+360,360):\n",
    "        mask = (df['Time2'] == t)\n",
    "        if np.sum(mask)>0.5: #there is at least one entry\n",
    "            df_new.loc[idx] = compute_mean(df[mask])\n",
    "        else:\n",
    "            df_new.loc[idx] = np.nan\n",
    "        idx = idx + 1\n",
    "    return df_new"
   ]
  },
  {
   "cell_type": "code",
   "execution_count": 10,
   "metadata": {},
   "outputs": [],
   "source": [
    "#process each dataframe in dfs\n",
    "dfs_new = []\n",
    "for i in range(len(dfs)):\n",
    "    dfs_new.append(process_df(dfs[i]))\n",
    "#The data is ready for approximating paths"
   ]
  },
  {
   "cell_type": "code",
   "execution_count": 11,
   "metadata": {
    "scrolled": true
   },
   "outputs": [
    {
     "data": {
      "text/html": [
       "<div>\n",
       "<style scoped>\n",
       "    .dataframe tbody tr th:only-of-type {\n",
       "        vertical-align: middle;\n",
       "    }\n",
       "\n",
       "    .dataframe tbody tr th {\n",
       "        vertical-align: top;\n",
       "    }\n",
       "\n",
       "    .dataframe thead th {\n",
       "        text-align: right;\n",
       "    }\n",
       "</style>\n",
       "<table border=\"1\" class=\"dataframe\">\n",
       "  <thead>\n",
       "    <tr style=\"text-align: right;\">\n",
       "      <th></th>\n",
       "      <th>ROT</th>\n",
       "      <th>SOG</th>\n",
       "      <th>Longitude</th>\n",
       "      <th>Latitude</th>\n",
       "      <th>TrueHeading</th>\n",
       "      <th>Time2</th>\n",
       "    </tr>\n",
       "  </thead>\n",
       "  <tbody>\n",
       "    <tr>\n",
       "      <th>0</th>\n",
       "      <td>0.0</td>\n",
       "      <td>19.5</td>\n",
       "      <td>48.40436</td>\n",
       "      <td>-123.19666</td>\n",
       "      <td>35.0</td>\n",
       "      <td>1.383183e+09</td>\n",
       "    </tr>\n",
       "    <tr>\n",
       "      <th>1</th>\n",
       "      <td>NaN</td>\n",
       "      <td>NaN</td>\n",
       "      <td>NaN</td>\n",
       "      <td>NaN</td>\n",
       "      <td>NaN</td>\n",
       "      <td>NaN</td>\n",
       "    </tr>\n",
       "    <tr>\n",
       "      <th>2</th>\n",
       "      <td>NaN</td>\n",
       "      <td>NaN</td>\n",
       "      <td>NaN</td>\n",
       "      <td>NaN</td>\n",
       "      <td>NaN</td>\n",
       "      <td>NaN</td>\n",
       "    </tr>\n",
       "    <tr>\n",
       "      <th>3</th>\n",
       "      <td>NaN</td>\n",
       "      <td>NaN</td>\n",
       "      <td>NaN</td>\n",
       "      <td>NaN</td>\n",
       "      <td>NaN</td>\n",
       "      <td>NaN</td>\n",
       "    </tr>\n",
       "    <tr>\n",
       "      <th>4</th>\n",
       "      <td>NaN</td>\n",
       "      <td>NaN</td>\n",
       "      <td>NaN</td>\n",
       "      <td>NaN</td>\n",
       "      <td>NaN</td>\n",
       "      <td>NaN</td>\n",
       "    </tr>\n",
       "  </tbody>\n",
       "</table>\n",
       "</div>"
      ],
      "text/plain": [
       "   ROT   SOG  Longitude   Latitude  TrueHeading         Time2\n",
       "0  0.0  19.5   48.40436 -123.19666         35.0  1.383183e+09\n",
       "1  NaN   NaN        NaN        NaN          NaN           NaN\n",
       "2  NaN   NaN        NaN        NaN          NaN           NaN\n",
       "3  NaN   NaN        NaN        NaN          NaN           NaN\n",
       "4  NaN   NaN        NaN        NaN          NaN           NaN"
      ]
     },
     "execution_count": 11,
     "metadata": {},
     "output_type": "execute_result"
    }
   ],
   "source": [
    "#for now, we just focus on a single trip\n",
    "trip_no = 0\n",
    "df_new = dfs_new[trip_no]\n",
    "df_new.head()"
   ]
  },
  {
   "cell_type": "code",
   "execution_count": 12,
   "metadata": {},
   "outputs": [],
   "source": [
    "#add horizontal speed and vertical speed\n",
    "#project SOG on x and y axis using TrueHeading\n",
    "# 1 lat-lon degree = 60 nautical miles\n",
    "#which is equivalent to\n",
    "#1/60 lat or lon degree = 1 nautical mile\n",
    "# 1 knot = 1 nautical mile per hour\n",
    "# Therefore,\n",
    "# 1 knot = 1/60 in lat-lon degrees (along x or y coordinate) per hour\n",
    "#also note that the angle is with respect to north\n",
    "df_new['Speed_x'] = df_new['SOG']*df_new['TrueHeading'].apply(lambda x: np.cos(np.deg2rad(x+90)))/(60)\n",
    "df_new['Speed_y'] = -df_new['SOG']*df_new['TrueHeading'].apply(lambda x: np.sin(np.deg2rad(x+90)))/(60)\n",
    "#now units of speed is in lat-lon degrees per hour"
   ]
  },
  {
   "cell_type": "code",
   "execution_count": 13,
   "metadata": {
    "scrolled": false
   },
   "outputs": [
    {
     "data": {
      "text/html": [
       "<div>\n",
       "<style scoped>\n",
       "    .dataframe tbody tr th:only-of-type {\n",
       "        vertical-align: middle;\n",
       "    }\n",
       "\n",
       "    .dataframe tbody tr th {\n",
       "        vertical-align: top;\n",
       "    }\n",
       "\n",
       "    .dataframe thead th {\n",
       "        text-align: right;\n",
       "    }\n",
       "</style>\n",
       "<table border=\"1\" class=\"dataframe\">\n",
       "  <thead>\n",
       "    <tr style=\"text-align: right;\">\n",
       "      <th></th>\n",
       "      <th>ROT</th>\n",
       "      <th>SOG</th>\n",
       "      <th>Longitude</th>\n",
       "      <th>Latitude</th>\n",
       "      <th>TrueHeading</th>\n",
       "      <th>Time2</th>\n",
       "      <th>Speed_x</th>\n",
       "      <th>Speed_y</th>\n",
       "    </tr>\n",
       "  </thead>\n",
       "  <tbody>\n",
       "    <tr>\n",
       "      <th>0</th>\n",
       "      <td>0.0</td>\n",
       "      <td>19.5</td>\n",
       "      <td>48.40436</td>\n",
       "      <td>-123.19666</td>\n",
       "      <td>35.0</td>\n",
       "      <td>1.383183e+09</td>\n",
       "      <td>-0.186412</td>\n",
       "      <td>-0.266224</td>\n",
       "    </tr>\n",
       "    <tr>\n",
       "      <th>1</th>\n",
       "      <td>NaN</td>\n",
       "      <td>NaN</td>\n",
       "      <td>NaN</td>\n",
       "      <td>NaN</td>\n",
       "      <td>NaN</td>\n",
       "      <td>NaN</td>\n",
       "      <td>NaN</td>\n",
       "      <td>NaN</td>\n",
       "    </tr>\n",
       "    <tr>\n",
       "      <th>2</th>\n",
       "      <td>NaN</td>\n",
       "      <td>NaN</td>\n",
       "      <td>NaN</td>\n",
       "      <td>NaN</td>\n",
       "      <td>NaN</td>\n",
       "      <td>NaN</td>\n",
       "      <td>NaN</td>\n",
       "      <td>NaN</td>\n",
       "    </tr>\n",
       "    <tr>\n",
       "      <th>3</th>\n",
       "      <td>NaN</td>\n",
       "      <td>NaN</td>\n",
       "      <td>NaN</td>\n",
       "      <td>NaN</td>\n",
       "      <td>NaN</td>\n",
       "      <td>NaN</td>\n",
       "      <td>NaN</td>\n",
       "      <td>NaN</td>\n",
       "    </tr>\n",
       "    <tr>\n",
       "      <th>4</th>\n",
       "      <td>NaN</td>\n",
       "      <td>NaN</td>\n",
       "      <td>NaN</td>\n",
       "      <td>NaN</td>\n",
       "      <td>NaN</td>\n",
       "      <td>NaN</td>\n",
       "      <td>NaN</td>\n",
       "      <td>NaN</td>\n",
       "    </tr>\n",
       "  </tbody>\n",
       "</table>\n",
       "</div>"
      ],
      "text/plain": [
       "   ROT   SOG  Longitude   Latitude  TrueHeading         Time2   Speed_x  \\\n",
       "0  0.0  19.5   48.40436 -123.19666         35.0  1.383183e+09 -0.186412   \n",
       "1  NaN   NaN        NaN        NaN          NaN           NaN       NaN   \n",
       "2  NaN   NaN        NaN        NaN          NaN           NaN       NaN   \n",
       "3  NaN   NaN        NaN        NaN          NaN           NaN       NaN   \n",
       "4  NaN   NaN        NaN        NaN          NaN           NaN       NaN   \n",
       "\n",
       "    Speed_y  \n",
       "0 -0.266224  \n",
       "1       NaN  \n",
       "2       NaN  \n",
       "3       NaN  \n",
       "4       NaN  "
      ]
     },
     "execution_count": 13,
     "metadata": {},
     "output_type": "execute_result"
    }
   ],
   "source": [
    "df_new.head()"
   ]
  },
  {
   "cell_type": "code",
   "execution_count": 14,
   "metadata": {},
   "outputs": [
    {
     "name": "stdout",
     "output_type": "stream",
     "text": [
      "[[48.40436 -123.19666 -0.18641234181409 -0.2662244143939223]\n",
      " [-- -- -- --]\n",
      " [-- -- -- --]\n",
      " [-- -- -- --]\n",
      " [-- -- -- --]]\n"
     ]
    }
   ],
   "source": [
    "#to feed the data to pykalman we need to mask NaN values\n",
    "def preprocess_kalman(columns,df_new):\n",
    "    \"\"\"\n",
    "    columns: columns used for pykalman\n",
    "    df_new: dataframe to process\n",
    "    \"\"\"\n",
    "    mask = df_new[columns].isnull()\n",
    "    measurements = np.ma.array(np.array(df_new[columns]),mask=mask)\n",
    "    return measurements\n",
    "meas = preprocess_kalman(['Longitude','Latitude','Speed_x','Speed_y'],df_new)\n",
    "print(meas[:5,:])"
   ]
  },
  {
   "cell_type": "code",
   "execution_count": 15,
   "metadata": {
    "scrolled": false
   },
   "outputs": [
    {
     "name": "stdout",
     "output_type": "stream",
     "text": [
      "Transition matrix\n",
      "[[ 1.     0.     0.1    0.     0.005  0.   ]\n",
      " [ 0.     1.     0.     0.1    0.     0.005]\n",
      " [ 0.     0.     1.     0.     0.1    0.   ]\n",
      " [ 0.     0.     0.     1.     0.     0.1  ]\n",
      " [ 0.     0.     0.     0.     1.     0.   ]\n",
      " [ 0.     0.     0.     0.     0.     1.   ]]\n",
      "Observation matrix\n",
      "[[ 1.  0.  0.  0.  0.  0.]\n",
      " [ 0.  1.  0.  0.  0.  0.]\n",
      " [ 0.  0.  1.  0.  0.  0.]\n",
      " [ 0.  0.  0.  1.  0.  0.]]\n"
     ]
    }
   ],
   "source": [
    "# True state model\n",
    "#(x,y,x',y',x'',y'')\n",
    "from pykalman import KalmanFilter\n",
    "deltaT = (6/60) #convert minutes to hours\n",
    "#general formula\n",
    "#x_new = x + x_vel*deltaT+x_acc*detlaT^2/2\n",
    "#vel_new = vel + acc*deltaT\n",
    "#acc_new ~ acc\n",
    "transition_matrix = np.eye(6)\n",
    "transition_matrix[0,2] = deltaT\n",
    "transition_matrix[0,4] = deltaT**2/2\n",
    "transition_matrix[1,3] = deltaT\n",
    "transition_matrix[1,5] = deltaT**2/2\n",
    "transition_matrix[2,4] = deltaT\n",
    "transition_matrix[3,5] = deltaT\n",
    "print('Transition matrix')\n",
    "print(transition_matrix)\n",
    "observation_matrix= np.zeros((4,6))\n",
    "observation_matrix[:4,:4] = np.eye(4)\n",
    "print('Observation matrix')\n",
    "print(observation_matrix)"
   ]
  },
  {
   "cell_type": "code",
   "execution_count": 16,
   "metadata": {},
   "outputs": [],
   "source": [
    "initial_state = (df_new.loc[0,'Longitude'],\n",
    "                df_new.loc[0,'Latitude'],\n",
    "                df_new.loc[0,'Speed_x'],\n",
    "                df_new.loc[0,'Speed_y'],\n",
    "                0,0)\n",
    "kf = KalmanFilter(transition_matrices = transition_matrix,\n",
    "                  observation_matrices = observation_matrix,\n",
    "                  initial_state_mean=initial_state)\n",
    "\n",
    "kf = kf.em(meas, n_iter=10)\n",
    "\n",
    "(filtered_state_means, filtered_state_covariances) = kf.filter(meas)\n",
    "(smoothed_state_means, smoothed_state_covariances) = kf.smooth(meas)"
   ]
  },
  {
   "cell_type": "code",
   "execution_count": 19,
   "metadata": {
    "scrolled": true
   },
   "outputs": [
    {
     "data": {
      "text/plain": [
       "[<matplotlib.lines.Line2D at 0x7fb929f06710>]"
      ]
     },
     "execution_count": 19,
     "metadata": {},
     "output_type": "execute_result"
    },
    {
     "data": {
      "image/png": "[encoded data removed]",
      "text/plain": [
       "<matplotlib.figure.Figure at 0x7fb929f064e0>"
      ]
     },
     "metadata": {},
     "output_type": "display_data"
    }
   ],
   "source": [
    "view = df_new[['Latitude','Longitude']].dropna(axis=0)\n",
    "plt.plot()\n",
    "plt.scatter(view['Latitude'],view['Longitude'])\n",
    "plt.plot(smoothed_state_means[1:-1,1],smoothed_state_means[1:-1,0],color='red')\n",
    "#plt.scatter(smoothed_state_means[-1:,1],smoothed_state_means[-1:,0],color='green')"
   ]
  },
  {
   "cell_type": "markdown",
   "metadata": {},
   "source": [
    "# Check perfomance on historical data"
   ]
  },
  {
   "cell_type": "markdown",
   "metadata": {},
   "source": [
    "## Pre-process the data"
   ]
  },
  {
   "cell_type": "code",
   "execution_count": 74,
   "metadata": {},
   "outputs": [
    {
     "name": "stderr",
     "output_type": "stream",
     "text": [
      "/opt/conda/lib/python3.6/site-packages/IPython/core/interactiveshell.py:2785: DtypeWarning: Columns (0) have mixed types. Specify dtype option on import or set low_memory=False.\n",
      "  interactivity=interactivity, compiler=compiler, result=result)\n"
     ]
    }
   ],
   "source": [
    "delta_hist = pd.read_csv('../data/workshop-content18/3-snc/data/PMV_AIS_Deltaport_History.txt',\n",
    "                 sep='\\t', parse_dates=['ReceivedTime'],\n",
    "                 usecols=['UserID','ROT', 'SOG','Longitude','Latitude',\n",
    "                          'TrueHeading','ReceivedTime'])"
   ]
  },
  {
   "cell_type": "code",
   "execution_count": 75,
   "metadata": {},
   "outputs": [
    {
     "name": "stdout",
     "output_type": "stream",
     "text": [
      "num rows for which userid count <= 1000: 291757\n",
      "# ships selected 382\n"
     ]
    }
   ],
   "source": [
    "delta_hist = delta_hist.dropna(axis=0)\n",
    "\n",
    "#extract only lat and lon needed\n",
    "mask = (delta_hist['Longitude']>-127)&(delta_hist['Longitude']<-120)\n",
    "mask = mask & (delta_hist['Latitude']>48)|(delta_hist['Latitude']<50)\n",
    "delta_hist = delta_hist[mask]\n",
    "\n",
    "# process time into 360 seconds tiles\n",
    "# 6 minutes = 360 seconds\n",
    "delta_hist['Time2'] = delta_hist['ReceivedTime'].apply(lambda x: int(360*round(x.timestamp()/360)))\n",
    "\n",
    "nPoints_by_UserID = pd.value_counts(delta_hist.UserID)\n",
    "nPoints_threshold = 1000\n",
    "print('num rows for which userid count <= 1000:', nPoints_by_UserID.loc[nPoints_by_UserID <= 1000].values.sum())\n",
    "userID_allowed = nPoints_by_UserID.index[nPoints_by_UserID > nPoints_threshold]\n",
    "\n",
    "#number of ships selected\n",
    "print('# ships selected',len(list(userID_allowed)))\n",
    "\n",
    "delta_hist = delta_hist[delta_hist['UserID'].isin(list(userID_allowed))]\n",
    "\n",
    "delta_hist.to_csv(\"delta_hist_processed.csv\",sep='\\t')"
   ]
  },
  {
   "cell_type": "markdown",
   "metadata": {},
   "source": [
    "## Testing starts"
   ]
  },
  {
   "cell_type": "code",
   "execution_count": 76,
   "metadata": {},
   "outputs": [],
   "source": [
    "delta_hist = pd.read_csv('delta_hist_processed.csv',sep='\\t',parse_dates=['ReceivedTime'],\n",
    "                 usecols=['UserID', 'ROT','SOG','Longitude','Latitude',\n",
    "                          'TrueHeading','ReceivedTime','Time2'])\n"
   ]
  },
  {
   "cell_type": "code",
   "execution_count": 77,
   "metadata": {},
   "outputs": [
    {
     "data": {
      "text/html": [
       "<div>\n",
       "<style scoped>\n",
       "    .dataframe tbody tr th:only-of-type {\n",
       "        vertical-align: middle;\n",
       "    }\n",
       "\n",
       "    .dataframe tbody tr th {\n",
       "        vertical-align: top;\n",
       "    }\n",
       "\n",
       "    .dataframe thead th {\n",
       "        text-align: right;\n",
       "    }\n",
       "</style>\n",
       "<table border=\"1\" class=\"dataframe\">\n",
       "  <thead>\n",
       "    <tr style=\"text-align: right;\">\n",
       "      <th></th>\n",
       "      <th>UserID</th>\n",
       "      <th>ROT</th>\n",
       "      <th>SOG</th>\n",
       "      <th>Longitude</th>\n",
       "      <th>Latitude</th>\n",
       "      <th>TrueHeading</th>\n",
       "      <th>ReceivedTime</th>\n",
       "      <th>Time2</th>\n",
       "    </tr>\n",
       "  </thead>\n",
       "  <tbody>\n",
       "    <tr>\n",
       "      <th>0</th>\n",
       "      <td>316003664</td>\n",
       "      <td>0.0</td>\n",
       "      <td>7.6</td>\n",
       "      <td>-123.06297</td>\n",
       "      <td>49.13173</td>\n",
       "      <td>221.0</td>\n",
       "      <td>2013-08-01 00:00:28.860</td>\n",
       "      <td>1375315200</td>\n",
       "    </tr>\n",
       "    <tr>\n",
       "      <th>1</th>\n",
       "      <td>636092306</td>\n",
       "      <td>0.0</td>\n",
       "      <td>0.0</td>\n",
       "      <td>-123.20044</td>\n",
       "      <td>49.30377</td>\n",
       "      <td>314.0</td>\n",
       "      <td>2013-08-01 00:00:29.107</td>\n",
       "      <td>1375315200</td>\n",
       "    </tr>\n",
       "    <tr>\n",
       "      <th>2</th>\n",
       "      <td>316005416</td>\n",
       "      <td>-126.0</td>\n",
       "      <td>3.3</td>\n",
       "      <td>-123.01252</td>\n",
       "      <td>49.15289</td>\n",
       "      <td>66.0</td>\n",
       "      <td>2013-08-01 00:00:30.373</td>\n",
       "      <td>1375315200</td>\n",
       "    </tr>\n",
       "    <tr>\n",
       "      <th>3</th>\n",
       "      <td>316004333</td>\n",
       "      <td>-127.0</td>\n",
       "      <td>0.0</td>\n",
       "      <td>-123.16602</td>\n",
       "      <td>49.11944</td>\n",
       "      <td>511.0</td>\n",
       "      <td>2013-08-01 00:00:32.640</td>\n",
       "      <td>1375315200</td>\n",
       "    </tr>\n",
       "    <tr>\n",
       "      <th>4</th>\n",
       "      <td>316003349</td>\n",
       "      <td>-127.0</td>\n",
       "      <td>0.0</td>\n",
       "      <td>-123.02924</td>\n",
       "      <td>49.29863</td>\n",
       "      <td>511.0</td>\n",
       "      <td>2013-08-01 00:00:32.890</td>\n",
       "      <td>1375315200</td>\n",
       "    </tr>\n",
       "  </tbody>\n",
       "</table>\n",
       "</div>"
      ],
      "text/plain": [
       "      UserID    ROT  SOG  Longitude  Latitude  TrueHeading  \\\n",
       "0  316003664    0.0  7.6 -123.06297  49.13173        221.0   \n",
       "1  636092306    0.0  0.0 -123.20044  49.30377        314.0   \n",
       "2  316005416 -126.0  3.3 -123.01252  49.15289         66.0   \n",
       "3  316004333 -127.0  0.0 -123.16602  49.11944        511.0   \n",
       "4  316003349 -127.0  0.0 -123.02924  49.29863        511.0   \n",
       "\n",
       "             ReceivedTime       Time2  \n",
       "0 2013-08-01 00:00:28.860  1375315200  \n",
       "1 2013-08-01 00:00:29.107  1375315200  \n",
       "2 2013-08-01 00:00:30.373  1375315200  \n",
       "3 2013-08-01 00:00:32.640  1375315200  \n",
       "4 2013-08-01 00:00:32.890  1375315200  "
      ]
     },
     "execution_count": 77,
     "metadata": {},
     "output_type": "execute_result"
    }
   ],
   "source": [
    "delta_hist.head()"
   ]
  },
  {
   "cell_type": "code",
   "execution_count": 78,
   "metadata": {},
   "outputs": [
    {
     "data": {
      "text/plain": [
       "211776000"
      ]
     },
     "execution_count": 78,
     "metadata": {},
     "output_type": "execute_result"
    }
   ],
   "source": [
    "#select a ship\n",
    "ship_list = np.unique(delta_hist['UserID'])\n",
    "UserID = ship_list[1]\n",
    "UserID"
   ]
  },
  {
   "cell_type": "code",
   "execution_count": 79,
   "metadata": {},
   "outputs": [
    {
     "name": "stdout",
     "output_type": "stream",
     "text": [
      "<class 'pandas.core.frame.DataFrame'>\n",
      "RangeIndex: 2862 entries, 0 to 2861\n",
      "Data columns (total 7 columns):\n",
      "ROT             2862 non-null float64\n",
      "SOG             2862 non-null float64\n",
      "Longitude       2862 non-null float64\n",
      "Latitude        2862 non-null float64\n",
      "TrueHeading     2862 non-null float64\n",
      "ReceivedTime    2862 non-null datetime64[ns]\n",
      "Time2           2862 non-null int64\n",
      "dtypes: datetime64[ns](1), float64(5), int64(1)\n",
      "memory usage: 156.6 KB\n"
     ]
    }
   ],
   "source": [
    "df = delta_hist[delta_hist['UserID']==UserID] #select the single ship\n",
    "df = df.drop(['UserID'],axis=1)\n",
    "df = df.sort_values(by=['Time2']).reset_index(drop=True) #sort entries by Time\n",
    "df.info()"
   ]
  },
  {
   "cell_type": "code",
   "execution_count": 82,
   "metadata": {},
   "outputs": [
    {
     "name": "stdout",
     "output_type": "stream",
     "text": [
      "Number of separate paths 7\n"
     ]
    }
   ],
   "source": [
    "# figure out if the ship leaves the Metro Vancouver\n",
    "time_diff = np.diff(df['Time2']) #the time between subsequent signals\n",
    "dfs =[] #here we store dataframe each of them is a part of unique path\n",
    "idx = 0\n",
    "#invesgate all cases where the ship was not tracked for an hour or more.\n",
    "#If ship is near the edge of Metro Vancouver, split path into two parts\n",
    "#-- we assume that it leaves the Metro Vancouver Area\n",
    "for i in range(len(time_diff)):\n",
    "    if time_diff[i]>3600: #1 hour = 60*60=3600 seconds\n",
    "        #investigate where the ship is located\n",
    "        lat = df.loc[i,'Latitude']\n",
    "        lon = df.loc[i,'Longitude']\n",
    "        #recall original filtering\n",
    "        #mask = (delta_cur['Longitude']>-127)&(delta_cur['Longitude']<-120)\n",
    "        #mask = mask & (delta_cur['Latitude']>48)|(delta_cur['Latitude']<50)\n",
    "        if (lat>-126.8)&(lat<-119.8)&(lon>48.2)&(lon<49.8):\n",
    "            #the ship is inside Metro Vancouver\n",
    "            continue\n",
    "        else:\n",
    "            dfs.append(df.iloc[idx:(i+1)])\n",
    "            idx = i+1\n",
    "dfs.append(df.iloc[idx:])#whatever chunk contains the last row \n",
    "print('Number of separate paths', len(dfs))"
   ]
  },
  {
   "cell_type": "code",
   "execution_count": 83,
   "metadata": {},
   "outputs": [
    {
     "data": {
      "text/plain": [
       "(617, 7)"
      ]
     },
     "execution_count": 83,
     "metadata": {},
     "output_type": "execute_result"
    }
   ],
   "source": [
    "dfs[0].shape"
   ]
  },
  {
   "cell_type": "code",
   "execution_count": 84,
   "metadata": {},
   "outputs": [],
   "source": [
    "#process each dataframe in dfs\n",
    "dfs_new = []\n",
    "for i in range(len(dfs)):\n",
    "    dfs_new.append(process_df(dfs[i]))\n",
    "#The data is ready for approximating paths"
   ]
  },
  {
   "cell_type": "code",
   "execution_count": 86,
   "metadata": {},
   "outputs": [
    {
     "data": {
      "text/html": [
       "<div>\n",
       "<style scoped>\n",
       "    .dataframe tbody tr th:only-of-type {\n",
       "        vertical-align: middle;\n",
       "    }\n",
       "\n",
       "    .dataframe tbody tr th {\n",
       "        vertical-align: top;\n",
       "    }\n",
       "\n",
       "    .dataframe thead th {\n",
       "        text-align: right;\n",
       "    }\n",
       "</style>\n",
       "<table border=\"1\" class=\"dataframe\">\n",
       "  <thead>\n",
       "    <tr style=\"text-align: right;\">\n",
       "      <th></th>\n",
       "      <th>ROT</th>\n",
       "      <th>SOG</th>\n",
       "      <th>Longitude</th>\n",
       "      <th>Latitude</th>\n",
       "      <th>TrueHeading</th>\n",
       "      <th>Time2</th>\n",
       "    </tr>\n",
       "  </thead>\n",
       "  <tbody>\n",
       "    <tr>\n",
       "      <th>0</th>\n",
       "      <td>0.0</td>\n",
       "      <td>13.5</td>\n",
       "      <td>48.39951</td>\n",
       "      <td>-123.20574</td>\n",
       "      <td>36.0</td>\n",
       "      <td>1.376626e+09</td>\n",
       "    </tr>\n",
       "    <tr>\n",
       "      <th>1</th>\n",
       "      <td>0.0</td>\n",
       "      <td>13.3</td>\n",
       "      <td>48.40412</td>\n",
       "      <td>-123.19944</td>\n",
       "      <td>35.0</td>\n",
       "      <td>1.376626e+09</td>\n",
       "    </tr>\n",
       "    <tr>\n",
       "      <th>2</th>\n",
       "      <td>NaN</td>\n",
       "      <td>NaN</td>\n",
       "      <td>NaN</td>\n",
       "      <td>NaN</td>\n",
       "      <td>NaN</td>\n",
       "      <td>NaN</td>\n",
       "    </tr>\n",
       "    <tr>\n",
       "      <th>3</th>\n",
       "      <td>0.0</td>\n",
       "      <td>14.4</td>\n",
       "      <td>48.45711</td>\n",
       "      <td>-123.16674</td>\n",
       "      <td>359.0</td>\n",
       "      <td>1.376627e+09</td>\n",
       "    </tr>\n",
       "    <tr>\n",
       "      <th>4</th>\n",
       "      <td>NaN</td>\n",
       "      <td>NaN</td>\n",
       "      <td>NaN</td>\n",
       "      <td>NaN</td>\n",
       "      <td>NaN</td>\n",
       "      <td>NaN</td>\n",
       "    </tr>\n",
       "  </tbody>\n",
       "</table>\n",
       "</div>"
      ],
      "text/plain": [
       "   ROT   SOG  Longitude   Latitude  TrueHeading         Time2\n",
       "0  0.0  13.5   48.39951 -123.20574         36.0  1.376626e+09\n",
       "1  0.0  13.3   48.40412 -123.19944         35.0  1.376626e+09\n",
       "2  NaN   NaN        NaN        NaN          NaN           NaN\n",
       "3  0.0  14.4   48.45711 -123.16674        359.0  1.376627e+09\n",
       "4  NaN   NaN        NaN        NaN          NaN           NaN"
      ]
     },
     "execution_count": 86,
     "metadata": {},
     "output_type": "execute_result"
    }
   ],
   "source": [
    "path_no = 0\n",
    "df = dfs[path_no] # for now, approximate the one path\n",
    "#for now, we just focus on a single trip\n",
    "trip_no = 0\n",
    "df_new = dfs_new[trip_no]\n",
    "df_new.head()"
   ]
  },
  {
   "cell_type": "code",
   "execution_count": 87,
   "metadata": {},
   "outputs": [],
   "source": [
    "#add horizontal speed and vertical speed\n",
    "#project SOG on x and y axis using TrueHeading\n",
    "# 1 lat-lon degree = 60 nautical miles\n",
    "#which is equivalent to\n",
    "#1/60 lat or lon degree = 1 nautical mile\n",
    "# 1 knot = 1 nautical mile per hour\n",
    "# Therefore,\n",
    "# 1 knot = 1/60 in lat-lon degrees (along x or y coordinate) per hour\n",
    "#also note that the angle is with respect to north\n",
    "df_new['Speed_x'] = df_new['SOG']*df_new['TrueHeading'].apply(lambda x: np.cos(np.deg2rad(x+90)))/(60)\n",
    "df_new['Speed_y'] = -df_new['SOG']*df_new['TrueHeading'].apply(lambda x: np.sin(np.deg2rad(x+90)))/(60)\n",
    "#now units of speed is in lat-lon degrees per hour"
   ]
  },
  {
   "cell_type": "code",
   "execution_count": 88,
   "metadata": {},
   "outputs": [
    {
     "name": "stdout",
     "output_type": "stream",
     "text": [
      "[[48.39951 -123.20574 -0.13225168176580643 -0.1820288237343632]\n",
      " [48.40412 -123.19944 -0.1271427767244819 -0.1815787031507265]\n",
      " [-- -- -- --]\n",
      " [48.45711 -123.16674 0.004188577544948069 -0.23996344683753393]\n",
      " [-- -- -- --]\n",
      " [48.50179 -123.17842 0.06211657082460498 -0.2318221983093764]\n",
      " [48.51385 -123.18299 0.06211657082460498 -0.2318221983093764]\n",
      " [48.53346 -123.19074 0.06254793589977585 -0.23343207468652485]\n",
      " [-- -- -- --]\n",
      " [48.58403 -123.21028 0.07166571251241974 -0.24992804094396293]\n",
      " [-- -- -- --]\n",
      " [-- -- -- --]]\n"
     ]
    }
   ],
   "source": [
    "meas = preprocess_kalman(['Longitude','Latitude','Speed_x','Speed_y'],df_new)\n",
    "print(meas[:12,:])"
   ]
  },
  {
   "cell_type": "code",
   "execution_count": 89,
   "metadata": {},
   "outputs": [
    {
     "name": "stdout",
     "output_type": "stream",
     "text": [
      "Transition matrix\n",
      "[[ 1.     0.     0.1    0.     0.005  0.   ]\n",
      " [ 0.     1.     0.     0.1    0.     0.005]\n",
      " [ 0.     0.     1.     0.     0.1    0.   ]\n",
      " [ 0.     0.     0.     1.     0.     0.1  ]\n",
      " [ 0.     0.     0.     0.     1.     0.   ]\n",
      " [ 0.     0.     0.     0.     0.     1.   ]]\n",
      "Observation matrix\n",
      "[[ 1.  0.  0.  0.  0.  0.]\n",
      " [ 0.  1.  0.  0.  0.  0.]\n",
      " [ 0.  0.  1.  0.  0.  0.]\n",
      " [ 0.  0.  0.  1.  0.  0.]]\n"
     ]
    }
   ],
   "source": [
    "# True state model\n",
    "#(x,y,x',y',x'',y'')\n",
    "from pykalman import KalmanFilter\n",
    "deltaT = (6/60) #convert minutes to hours\n",
    "#general formula\n",
    "#x_new = x + x_vel*deltaT+x_acc*detlaT^2/2\n",
    "#vel_new = vel + acc*deltaT\n",
    "#acc_new ~ acc\n",
    "transition_matrix = np.eye(6)\n",
    "transition_matrix[0,2] = deltaT\n",
    "transition_matrix[0,4] = deltaT**2/2\n",
    "transition_matrix[1,3] = deltaT\n",
    "transition_matrix[1,5] = deltaT**2/2\n",
    "transition_matrix[2,4] = deltaT\n",
    "transition_matrix[3,5] = deltaT\n",
    "print('Transition matrix')\n",
    "print(transition_matrix)\n",
    "observation_matrix= np.zeros((4,6))\n",
    "observation_matrix[:4,:4] = np.eye(4)\n",
    "print('Observation matrix')\n",
    "print(observation_matrix)"
   ]
  },
  {
   "cell_type": "code",
   "execution_count": 90,
   "metadata": {},
   "outputs": [],
   "source": [
    "initial_state = (df_new.loc[0,'Longitude'],\n",
    "                df_new.loc[0,'Latitude'],\n",
    "                df_new.loc[0,'Speed_x'],\n",
    "                df_new.loc[0,'Speed_y'],\n",
    "                0,0)\n",
    "kf = KalmanFilter(transition_matrices = transition_matrix,\n",
    "                  observation_matrices = observation_matrix,\n",
    "                  initial_state_mean=initial_state)\n",
    "\n",
    "kf = kf.em(meas, n_iter=10)\n",
    "\n",
    "(filtered_state_means, filtered_state_covariances) = kf.filter(meas)\n",
    "(smoothed_state_means, smoothed_state_covariances) = kf.smooth(meas)"
   ]
  },
  {
   "cell_type": "code",
   "execution_count": 91,
   "metadata": {},
   "outputs": [
    {
     "data": {
      "text/plain": [
       "[<matplotlib.lines.Line2D at 0x7fb9038aeb38>]"
      ]
     },
     "execution_count": 91,
     "metadata": {},
     "output_type": "execute_result"
    },
    {
     "data": {
      "image/png": "[encoded data removed]",
      "text/plain": [
       "<matplotlib.figure.Figure at 0x7fb915847a58>"
      ]
     },
     "metadata": {},
     "output_type": "display_data"
    }
   ],
   "source": [
    "view = df_new[['Latitude','Longitude']].dropna(axis=0)\n",
    "plt.plot()\n",
    "plt.scatter(view['Latitude'],view['Longitude'])\n",
    "plt.plot(smoothed_state_means[1:-1,1],smoothed_state_means[1:-1,0],color='red')\n",
    "#plt.scatter(smoothed_state_means[-1:,1],smoothed_state_means[-1:,0],color='green')"
   ]
  },
  {
   "cell_type": "code",
   "execution_count": null,
   "metadata": {},
   "outputs": [],
   "source": [
    "#yay!"
   ]
  },
  {
   "cell_type": "code",
   "execution_count": null,
   "metadata": {},
   "outputs": [],
   "source": []
  },
  {
   "cell_type": "code",
   "execution_count": null,
   "metadata": {},
   "outputs": [],
   "source": []
  },
  {
   "cell_type": "code",
   "execution_count": null,
   "metadata": {},
   "outputs": [],
   "source": []
  }
 ],
 "metadata": {
  "kernelspec": {
   "display_name": "Python 3",
   "language": "python",
   "name": "python3"
  },
  "language_info": {
   "codemirror_mode": {
    "name": "ipython",
    "version": 3
   },
   "file_extension": ".py",
   "mimetype": "text/x-python",
   "name": "python",
   "nbconvert_exporter": "python",
   "pygments_lexer": "ipython3",
   "version": "3.6.5"
  }
 },
 "nbformat": 4,
 "nbformat_minor": 2
}
